{
 "cells": [
  {
   "cell_type": "raw",
   "id": "6670f209-a72f-45ba-a4c1-93030c64c290",
   "metadata": {},
   "source": [
    "orbs:\n",
    "  aws-s3: circleci/aws-s3@4.0.0"
   ]
  },
  {
   "cell_type": "code",
   "execution_count": null,
   "id": "9df840d8-a717-44e9-9814-5f8b4c6d6976",
   "metadata": {},
   "outputs": [],
   "source": []
  },
  {
   "cell_type": "code",
   "execution_count": 2,
   "id": "acbcfe8f-7952-46de-864b-2290a2e71cbc",
   "metadata": {},
   "outputs": [
    {
     "ename": "SyntaxError",
     "evalue": "invalid syntax (1294481641.py, line 1)",
     "output_type": "error",
     "traceback": [
      "\u001b[0;36m  Cell \u001b[0;32mIn[2], line 1\u001b[0;36m\u001b[0m\n\u001b[0;31m    orbs:\u001b[0m\n\u001b[0m         ^\u001b[0m\n\u001b[0;31mSyntaxError\u001b[0m\u001b[0;31m:\u001b[0m invalid syntax\n"
     ]
    }
   ],
   "source": [
    "orbs:\n",
    "  aws-s3: circleci/aws-s3@4.0.0"
   ]
  },
  {
   "cell_type": "code",
   "execution_count": 3,
   "id": "9c78ccba-8fa9-48c1-b8a3-252f300d0bca",
   "metadata": {},
   "outputs": [
    {
     "ename": "SyntaxError",
     "evalue": "invalid syntax (1294481641.py, line 1)",
     "output_type": "error",
     "traceback": [
      "\u001b[0;36m  Cell \u001b[0;32mIn[3], line 1\u001b[0;36m\u001b[0m\n\u001b[0;31m    orbs:\u001b[0m\n\u001b[0m         ^\u001b[0m\n\u001b[0;31mSyntaxError\u001b[0m\u001b[0;31m:\u001b[0m invalid syntax\n"
     ]
    }
   ],
   "source": [
    "orbs:\n",
    "  aws-s3: circleci/aws-s3@4.0.0"
   ]
  },
  {
   "cell_type": "code",
   "execution_count": null,
   "id": "024fd6ea-8469-4e04-a860-0f01f2045b8e",
   "metadata": {},
   "outputs": [],
   "source": [
    "            - name:rashann247 Setup Node.js environment\n",
    "  uses: actions/setup-node@v4.0.0\n",
    "  with:\n",
    "    # Set always-auth in npmrc.\n",
    "    always-auth: # optional, default is false\n",
    "    # Version Spec of the version to use. Examples: 12.x, 10.15.1, >=10.15.0.\n",
    "    node-version: # optional\n",
    "    # File containing the version Spec of the version to use.  Examples: .nvmrc, .node-version, .tool-versions.\n",
    "    node-version-file: # optional\n",
    "    # Target architecture for Node to use. Examples: x86, x64. Will use system architecture by default.\n",
    "    architecture: # optional\n",
    "    # Set this option if you want the action to check for the latest available version that satisfies the version spec.\n",
    "    check-latest: # optional\n",
    "    # Optional registry to set up for auth. Will set the registry in a project level .npmrc and .yarnrc file, and set up auth to read in from env.NODE_AUTH_TOKEN.\n",
    "    registry-url: # optional\n",
    "    # Optional scope for authenticating against scoped registries. Will fall back to the repository owner when using the GitHub Packages registry (https://npm.pkg.github.com/).\n",
    "    scope: # optional\n",
    "    # Used to pull node distributions from node-versions. Since there's a default, this is typically not supplied by the user. When running this action on github.com, the default value is sufficient. When running on GHES, you can pass a personal access token for github.com if you are experiencing rate limiting.\n",
    "    token: # optional, default is ${{ github.server_url == 'https://github.com' && github.token || '' }}\n",
    "    # Used to specify a package manager for caching in the default directory. Supported values: npm, yarn, pnpm.\n",
    "    cache: # optional\n",
    "    # Used to specify the path to a dependency file: package-lock.json, yarn.lock, etc. Supports wildcards or a list of file names for caching multiple dependencies.\n",
    "    cache-dependency-path: # optional\n",
    "          https://github.com/ethereum/go-ethereum/tree/f1794ba2788baf34489847bfa9ca00e067507db0"
   ]
  },
  {
   "cell_type": "code",
   "execution_count": null,
   "id": "4b11a928-ee78-4dec-b083-be4b0e820169",
   "metadata": {},
   "outputs": [],
   "source": []
  },
  {
   "cell_type": "code",
   "execution_count": null,
   "id": "f82baad9-1a52-4ef5-97c6-8ce23896548b",
   "metadata": {},
   "outputs": [],
   "source": []
  }
 ],
 "metadata": {
  "kernelspec": {
   "display_name": "Python 3 (ipykernel)",
   "language": "python",
   "name": "python3"
  },
  "language_info": {
   "codemirror_mode": {
    "name": "ipython",
    "version": 3
   },
   "file_extension": ".py",
   "mimetype": "text/x-python",
   "name": "python",
   "nbconvert_exporter": "python",
   "pygments_lexer": "ipython3",
   "version": "3.10.13"
  }
 },
 "nbformat": 4,
 "nbformat_minor": 5
}
